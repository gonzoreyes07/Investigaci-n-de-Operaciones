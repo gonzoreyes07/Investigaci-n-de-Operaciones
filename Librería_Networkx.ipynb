{
  "nbformat": 4,
  "nbformat_minor": 0,
  "metadata": {
    "colab": {
      "provenance": [],
      "authorship_tag": "ABX9TyNk1odqY2jOG70O20c41xtC",
      "include_colab_link": true
    },
    "kernelspec": {
      "name": "python3",
      "display_name": "Python 3"
    },
    "language_info": {
      "name": "python"
    }
  },
  "cells": [
    {
      "cell_type": "markdown",
      "metadata": {
        "id": "view-in-github",
        "colab_type": "text"
      },
      "source": [
        "<a href=\"https://colab.research.google.com/github/gonzoreyes07/Investigaci-n-de-Operaciones/blob/main/Librer%C3%ADa_Networkx.ipynb\" target=\"_parent\"><img src=\"https://colab.research.google.com/assets/colab-badge.svg\" alt=\"Open In Colab\"/></a>"
      ]
    },
    {
      "cell_type": "markdown",
      "source": [
        "# **Tutorial de la librería NetworkX**"
      ],
      "metadata": {
        "id": "OFz2wlVAEsg1"
      }
    },
    {
      "cell_type": "markdown",
      "source": [
        "# 1. Importación de la librería"
      ],
      "metadata": {
        "id": "-EcsFCSRFAsn"
      }
    },
    {
      "cell_type": "code",
      "execution_count": 11,
      "metadata": {
        "id": "PenDqGZ_XPQt"
      },
      "outputs": [],
      "source": [
        "import networkx as nx\n",
        "import matplotlib.pyplot as plt"
      ]
    },
    {
      "cell_type": "markdown",
      "source": [
        "# 2. Grafos Dirigidos (DiGraph)\n",
        "\n",
        "Un grafo dirigido (nx.DiGraph) es un grafo donde las aristas tienen dirección, representada por flechas.\n",
        "\n",
        "Creamos un grafo dirigido y añadimos nodos y aristas con un atributo de capacidad (capacity)."
      ],
      "metadata": {
        "id": "U4rrUXJmFZoH"
      }
    },
    {
      "cell_type": "code",
      "source": [
        "G = nx.DiGraph() # Di Graph proporciona metodos y propiedades adicionales"
      ],
      "metadata": {
        "id": "lLEMik0IX2hq"
      },
      "execution_count": 12,
      "outputs": []
    },
    {
      "cell_type": "code",
      "source": [
        "# Agregamos los nodos del problema\n",
        "G.add_edge(\"A\",\"B\",capacity = 2)\n",
        "G.add_edge(\"A\",\"C\",capacity = 2)\n",
        "G.add_edge(\"B\", \"C\", capacity=2)\n",
        "G.add_edge(\"B\",\"D\",capacity = 2)\n",
        "G.add_edge(\"C\",\"D\",capacity = 2)"
      ],
      "metadata": {
        "id": "is1ymUMEY1fB"
      },
      "execution_count": 14,
      "outputs": []
    },
    {
      "cell_type": "markdown",
      "source": [
        "# Inspección del Grafo\n",
        "\n",
        "Podemos inspeccionar los nodos, aristas, y sus propiedades:"
      ],
      "metadata": {
        "id": "GOQFmH6UGFoB"
      }
    },
    {
      "cell_type": "code",
      "source": [
        "# Mostrar nodos\n",
        "print(\"Nodos:\", list(G.nodes()))"
      ],
      "metadata": {
        "colab": {
          "base_uri": "https://localhost:8080/"
        },
        "id": "_6fE0cflbx11",
        "outputId": "ea23a688-058c-4cf4-be92-845b6de4a0f3"
      },
      "execution_count": 15,
      "outputs": [
        {
          "output_type": "stream",
          "name": "stdout",
          "text": [
            "Nodos: ['A', 'B', 'C', 'D']\n"
          ]
        }
      ]
    },
    {
      "cell_type": "code",
      "source": [
        "# Mostrar arcos\n",
        "print(\"Arcos:\", list(G.edges()))"
      ],
      "metadata": {
        "colab": {
          "base_uri": "https://localhost:8080/"
        },
        "id": "ClIdGcH2GTze",
        "outputId": "6b98a8b7-ffed-4c92-a7c3-18add2a8a7b6"
      },
      "execution_count": 18,
      "outputs": [
        {
          "output_type": "stream",
          "name": "stdout",
          "text": [
            "Arcos: [('A', 'B'), ('A', 'C'), ('B', 'C'), ('B', 'D'), ('C', 'D')]\n"
          ]
        }
      ]
    },
    {
      "cell_type": "code",
      "source": [
        "# Mostrar número de nodos y arcos\n",
        "print(\"Número de nodos:\", G.number_of_nodes())\n",
        "print(\"Número de arcos:\", G.number_of_edges())"
      ],
      "metadata": {
        "colab": {
          "base_uri": "https://localhost:8080/"
        },
        "id": "Ec-zkyvZdIEr",
        "outputId": "bbabfabb-2724-4cfc-8f71-3b5f7ad63f74"
      },
      "execution_count": 19,
      "outputs": [
        {
          "output_type": "stream",
          "name": "stdout",
          "text": [
            "Número de nodos: 4\n",
            "Número de arcos: 5\n"
          ]
        }
      ]
    },
    {
      "cell_type": "code",
      "source": [
        "# Mostrar atributos de un arco en específico\n",
        "print(\"Atributos del arco A->B:\", G[\"A\"][\"B\"])"
      ],
      "metadata": {
        "colab": {
          "base_uri": "https://localhost:8080/"
        },
        "id": "-dLJbnVEdU3-",
        "outputId": "b0200bbc-6717-4fd6-c652-531167813472"
      },
      "execution_count": 20,
      "outputs": [
        {
          "output_type": "stream",
          "name": "stdout",
          "text": [
            "Atributos del arco A->B: {'capacity': 2}\n"
          ]
        }
      ]
    },
    {
      "cell_type": "markdown",
      "source": [
        "# Visualización del Grafo\n",
        "\n",
        "Para visualizar el grafo, usamos nx.draw_networkx con matplotlib. Añadimos etiquetas y personalizamos el estilo."
      ],
      "metadata": {
        "id": "szRY56UDG16x"
      }
    },
    {
      "cell_type": "code",
      "source": [
        "nx.draw_networkx(G, with_labels=True, node_color='lightblue', edge_color='gray', arrows=True, node_size=500, font_size=12)\n",
        "plt.title(\"Grafo Dirigido\")\n",
        "plt.show()"
      ],
      "metadata": {
        "colab": {
          "base_uri": "https://localhost:8080/",
          "height": 428
        },
        "id": "lBuzARAbaum6",
        "outputId": "ac99ee7f-edde-40a2-ec1f-d0dcef33d248"
      },
      "execution_count": 24,
      "outputs": [
        {
          "output_type": "display_data",
          "data": {
            "text/plain": [
              "<Figure size 640x480 with 1 Axes>"
            ],
            "image/png": "[encoded data removed]"
          },
          "metadata": {}
        }
      ]
    },
    {
      "cell_type": "markdown",
      "source": [
        "# 3. Grafos No Dirigidos (Graph)\n",
        "\n",
        "Un grafo no dirigido (nx.Graph) no tiene dirección en los arcos. Las conexiones son bidireccionales."
      ],
      "metadata": {
        "id": "fYwGhWl1HH0f"
      }
    },
    {
      "cell_type": "code",
      "source": [
        "# Ejemplo\n",
        "# Creamos un grafo no dirigido\n",
        "UG = nx.Graph()"
      ],
      "metadata": {
        "id": "pu04fwhNjJEL"
      },
      "execution_count": 25,
      "outputs": []
    },
    {
      "cell_type": "code",
      "source": [
        "# Agregamos nodos y arcos\n",
        "UG.add_nodes_from([\"X\", \"Y\", \"Z\"])\n",
        "UG.add_edge(\"X\", \"Y\", weight=1.5)\n",
        "UG.add_edge(\"Y\", \"Z\", weight=2.0)\n",
        "UG.add_edge(\"Z\", \"X\", weight=1.0)"
      ],
      "metadata": {
        "id": "kmHjU7-THZ4m"
      },
      "execution_count": 26,
      "outputs": []
    },
    {
      "cell_type": "code",
      "source": [
        "# Información del grafo creado\n",
        "print(\"Nodos del grafo no dirigido:\", list(UG.nodes()))\n",
        "print(\"Arcos del grafo no dirigido:\", list(UG.edges(data=True)))"
      ],
      "metadata": {
        "colab": {
          "base_uri": "https://localhost:8080/"
        },
        "id": "vI7l_d0IHfHw",
        "outputId": "6f5d8c2e-bdea-480c-e606-a8635803ef47"
      },
      "execution_count": 27,
      "outputs": [
        {
          "output_type": "stream",
          "name": "stdout",
          "text": [
            "Nodos del grafo no dirigido: ['X', 'Y', 'Z']\n",
            "Arcos del grafo no dirigido: [('X', 'Y', {'weight': 1.5}), ('X', 'Z', {'weight': 1.0}), ('Y', 'Z', {'weight': 2.0})]\n"
          ]
        }
      ]
    },
    {
      "cell_type": "code",
      "source": [
        "nx.draw_networkx(UG, with_labels=True, node_color='lightgreen', edge_color='blue', node_size=500, font_size=12)\n",
        "plt.title(\"Grafo No Dirigido\")\n",
        "plt.show()"
      ],
      "metadata": {
        "colab": {
          "base_uri": "https://localhost:8080/",
          "height": 428
        },
        "id": "JfcMrNGjHqDS",
        "outputId": "fc7acafc-381e-42df-961c-c59f295a92ed"
      },
      "execution_count": 28,
      "outputs": [
        {
          "output_type": "display_data",
          "data": {
            "text/plain": [
              "<Figure size 640x480 with 1 Axes>"
            ],
            "image/png": "[encoded data removed]"
          },
          "metadata": {}
        }
      ]
    },
    {
      "cell_type": "markdown",
      "source": [
        "# 4. Multigrafos (MultiGraph)\n",
        "\n",
        "Un multigrafo (nx.MultiGraph) permite múltiples arcos entre el mismo par de nodos, cada una con diferentes atributos."
      ],
      "metadata": {
        "id": "25CP4yQ9H2oB"
      }
    },
    {
      "cell_type": "code",
      "source": [
        "# Ejemplo:\n",
        "# Creamos un multigrafo\n",
        "MG = nx.MultiGraph()"
      ],
      "metadata": {
        "id": "P8pWDp-rH1-4"
      },
      "execution_count": 29,
      "outputs": []
    },
    {
      "cell_type": "code",
      "source": [
        "# Agregamos múltiples arcos entre los mismos nodos\n",
        "MG.add_edge(\"A\", \"B\", weight=1)\n",
        "MG.add_edge(\"A\", \"B\", weight=2)\n",
        "MG.add_edge(\"B\", \"C\", weight=3)"
      ],
      "metadata": {
        "colab": {
          "base_uri": "https://localhost:8080/"
        },
        "id": "vIfmCJF3IJeG",
        "outputId": "c9a6cf73-b202-4a2e-a1d5-439bdae92dae"
      },
      "execution_count": 42,
      "outputs": [
        {
          "output_type": "execute_result",
          "data": {
            "text/plain": [
              "8"
            ]
          },
          "metadata": {},
          "execution_count": 42
        }
      ]
    },
    {
      "cell_type": "code",
      "source": [
        "# Información de nuestro multigrafo creado\n",
        "print(\"Aristas del multigrafo:\", list(MG.edges(data=True)))"
      ],
      "metadata": {
        "colab": {
          "base_uri": "https://localhost:8080/"
        },
        "id": "JIcI1ckmIU31",
        "outputId": "003892ef-665d-4bb0-8a32-f9311bc7a855"
      },
      "execution_count": 40,
      "outputs": [
        {
          "output_type": "stream",
          "name": "stdout",
          "text": [
            "Aristas del multigrafo: [('A', 'B', {'weight': 1}), ('A', 'B', {'weight': 2}), ('A', 'B', {'weight': 1}), ('A', 'B', {'weight': 2}), ('A', 'B', {'weight': 1}), ('A', 'B', {'weight': 2}), ('A', 'B', {'weight': 1}), ('A', 'B', {'weight': 2}), ('A', 'B', {'weight': 1}), ('A', 'B', {'weight': 2}), ('A', 'B', {'weight': 1}), ('A', 'B', {'weight': 2}), ('A', 'B', {'weight': 1}), ('A', 'B', {'weight': 2}), ('A', 'B', {'weight': 1}), ('A', 'B', {'weight': 2}), ('B', 'C', {'weight': 3}), ('B', 'C', {'weight': 3}), ('B', 'C', {'weight': 3}), ('B', 'C', {'weight': 3}), ('B', 'C', {'weight': 3}), ('B', 'C', {'weight': 3}), ('B', 'C', {'weight': 3}), ('B', 'C', {'weight': 3})]\n"
          ]
        }
      ]
    },
    {
      "cell_type": "code",
      "source": [
        "# Visualización\n",
        "nx.draw_networkx(MG, with_labels=True, node_color='lightcoral', edge_color='purple', node_size=500, font_size=12)\n",
        "plt.title(\"Multigrafo\")\n",
        "plt.show()"
      ],
      "metadata": {
        "colab": {
          "base_uri": "https://localhost:8080/",
          "height": 428
        },
        "id": "KNisksVeIc8r",
        "outputId": "a53517bf-68e8-4dc0-f75b-8f00fc89a6d9"
      },
      "execution_count": 43,
      "outputs": [
        {
          "output_type": "display_data",
          "data": {
            "text/plain": [
              "<Figure size 640x480 with 1 Axes>"
            ],
            "image/png": "[encoded data removed]"
          },
          "metadata": {}
        }
      ]
    },
    {
      "cell_type": "markdown",
      "source": [
        "# **5. Análisis de un Grafo**\n",
        "\n",
        "NetworkX ofrece herramientas para analizar grafos, como calcular caminos más cortos o el flujo máximo."
      ],
      "metadata": {
        "id": "XAPGB-gjImKt"
      }
    },
    {
      "cell_type": "code",
      "source": [
        "# Ejemplo: Camino Más Corto\n",
        "# Calculamos el camino más corto desde el nodo A al nodo D en el grafo dirigido antes creado.\n",
        "shortest_path = nx.shortest_path(G, source=\"A\", target=\"D\")\n",
        "print(\"Camino más corto de A a D:\", shortest_path)"
      ],
      "metadata": {
        "colab": {
          "base_uri": "https://localhost:8080/"
        },
        "id": "cvVwWxcWIsph",
        "outputId": "afb7aa69-2d3f-4b5f-a352-984e62f9aa3f"
      },
      "execution_count": 44,
      "outputs": [
        {
          "output_type": "stream",
          "name": "stdout",
          "text": [
            "Camino más corto de A a D: ['A', 'B', 'D']\n"
          ]
        }
      ]
    },
    {
      "cell_type": "code",
      "source": [
        "# Ejemplo: Flujo Máximo\n",
        "# Para el grafo dirigido con capacidades, calculamos el flujo máximo de A a D.\n",
        "flow_value, flow_dict = nx.maximum_flow(G, \"A\", \"D\")\n",
        "print(\"Valor del flujo máximo:\", flow_value)\n",
        "print(\"Distribución del flujo:\", flow_dict)"
      ],
      "metadata": {
        "colab": {
          "base_uri": "https://localhost:8080/"
        },
        "id": "c9ucp9mUJJ_K",
        "outputId": "25bf579d-d4d4-4d04-f97b-ce9780b1e7e0"
      },
      "execution_count": 45,
      "outputs": [
        {
          "output_type": "stream",
          "name": "stdout",
          "text": [
            "Valor del flujo máximo: 4\n",
            "Distribución del flujo: {'A': {'B': 2, 'C': 2}, 'B': {'C': 0, 'D': 2}, 'C': {'D': 2}, 'D': {}}\n"
          ]
        }
      ]
    }
  ]
}